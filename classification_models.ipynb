{
 "cells": [
  {
   "cell_type": "code",
   "execution_count": 1,
   "metadata": {},
   "outputs": [],
   "source": [
    "import pandas as pd \n",
    "import numpy as np \n",
    "import matplotlib.pyplot as plt \n",
    "\n",
    "from sklearn import linear_model\n",
    "from sklearn.linear_model import LinearRegression \n",
    "lm = LinearRegression()\n",
    "from sklearn import feature_selection\n",
    "from sklearn import metrics\n",
    "from sklearn.model_selection import train_test_split\n",
    "from sklearn.preprocessing import StandardScaler\n",
    "from sklearn import neighbors\n",
    "\n",
    "import statsmodels.api as sm"
   ]
  },
  {
   "cell_type": "code",
   "execution_count": 2,
   "metadata": {},
   "outputs": [],
   "source": [
    "original_cancer = pd.read_csv(\"~/Downloads/cancer.csv\")\n",
    "cancer = pd.read_csv(\"~/Downloads/cancer.csv\")"
   ]
  },
  {
   "cell_type": "code",
   "execution_count": 3,
   "metadata": {},
   "outputs": [
    {
     "name": "stdout",
     "output_type": "stream",
     "text": [
      "Index(['avgDeathsPerYear', 'TARGET_deathRate', 'incidenceRate', 'medIncome',\n",
      "       'povertyPercent', 'studyPerCap', 'MedianAge', 'AvgHouseholdSize',\n",
      "       'PercentMarried', 'PctPrivateCoverage', 'PctPublicCoverage',\n",
      "       'BirthRate', 'region_Northeast', 'region_South', 'region_West'],\n",
      "      dtype='object')\n"
     ]
    }
   ],
   "source": [
    "dummy_cancer = pd.get_dummies(data = cancer, drop_first=True) #adding dummy variables for categorical variable #region\n",
    "print(dummy_cancer.columns)"
   ]
  },
  {
   "cell_type": "code",
   "execution_count": 4,
   "metadata": {},
   "outputs": [],
   "source": [
    "_X = dummy_cancer[['avgDeathsPerYear', 'incidenceRate', 'medIncome','povertyPercent', 'studyPerCap', 'MedianAge', 'AvgHouseholdSize','PercentMarried', 'PctPrivateCoverage', 'PctPublicCoverage','BirthRate', 'region_Northeast', 'region_South','region_West']]\n",
    "_y = dummy_cancer['TARGET_deathRate']"
   ]
  },
  {
   "cell_type": "markdown",
   "metadata": {},
   "source": [
    "#Splitting data into training and test sets\n",
    "#splitting training and Test data in 1:3 ratio"
   ]
  },
  {
   "cell_type": "code",
   "execution_count": 5,
   "metadata": {},
   "outputs": [],
   "source": [
    "X_train_valid , X_test, y_train_valid, y_test = train_test_split(_X,_y, test_size = 0.25, random_state = 7283) "
   ]
  },
  {
   "cell_type": "markdown",
   "metadata": {},
   "source": [
    "# further diving data 2:1 split "
   ]
  },
  {
   "cell_type": "code",
   "execution_count": 6,
   "metadata": {},
   "outputs": [],
   "source": [
    "X_train, X_valid , y_train, y_valid = train_test_split(X_train_valid, y_train_valid, test_size = 1/3, random_state = 7283)"
   ]
  },
  {
   "cell_type": "code",
   "execution_count": 7,
   "metadata": {},
   "outputs": [],
   "source": [
    "X = cancer.copy()\n",
    "del X['TARGET_deathRate']"
   ]
  },
  {
   "cell_type": "markdown",
   "metadata": {},
   "source": [
    "**Model 1: Linear Regression**\n",
    "We will start with model building followed by diagnosis"
   ]
  },
  {
   "cell_type": "code",
   "execution_count": 8,
   "metadata": {},
   "outputs": [
    {
     "name": "stdout",
     "output_type": "stream",
     "text": [
      "                            OLS Regression Results                            \n",
      "==============================================================================\n",
      "Dep. Variable:       TARGET_deathRate   R-squared:                       0.473\n",
      "Model:                            OLS   Adj. R-squared:                  0.471\n",
      "Method:                 Least Squares   F-statistic:                     192.5\n",
      "Date:                Wed, 27 Oct 2021   Prob (F-statistic):               0.00\n",
      "Time:                        13:32:27   Log-Likelihood:                -13339.\n",
      "No. Observations:                3017   AIC:                         2.671e+04\n",
      "Df Residuals:                    3002   BIC:                         2.680e+04\n",
      "Df Model:                          14                                         \n",
      "Covariance Type:            nonrobust                                         \n",
      "======================================================================================\n",
      "                         coef    std err          t      P>|t|      [0.025      0.975]\n",
      "--------------------------------------------------------------------------------------\n",
      "const                117.8969     11.485     10.265      0.000      95.377     140.417\n",
      "avgDeathsPerYear      -0.0026      0.001     -3.278      0.001      -0.004      -0.001\n",
      "incidenceRate          0.2205      0.007     30.068      0.000       0.206       0.235\n",
      "medIncome             -0.0002   6.34e-05     -3.089      0.002      -0.000   -7.16e-05\n",
      "povertyPercent         0.0269      0.152      0.177      0.859      -0.271       0.324\n",
      "studyPerCap           -0.0009      0.001     -1.284      0.199      -0.002       0.000\n",
      "MedianAge             -0.3965      0.124     -3.191      0.001      -0.640      -0.153\n",
      "AvgHouseholdSize       0.6620      0.961      0.689      0.491      -1.222       2.546\n",
      "PercentMarried        -0.0382      0.085     -0.450      0.653      -0.205       0.128\n",
      "PctPrivateCoverage    -0.4902      0.081     -6.022      0.000      -0.650      -0.331\n",
      "PctPublicCoverage      0.6483      0.116      5.605      0.000       0.422       0.875\n",
      "BirthRate             -0.5630      0.196     -2.873      0.004      -0.947      -0.179\n",
      "region_Northeast      -9.2744      1.656     -5.599      0.000     -12.522      -6.026\n",
      "region_South           3.8274      1.018      3.760      0.000       1.831       5.823\n",
      "region_West          -14.6001      1.296    -11.263      0.000     -17.142     -12.058\n",
      "==============================================================================\n",
      "Omnibus:                      201.198   Durbin-Watson:                   1.716\n",
      "Prob(Omnibus):                  0.000   Jarque-Bera (JB):              897.712\n",
      "Skew:                           0.125   Prob(JB):                    1.16e-195\n",
      "Kurtosis:                       5.661   Cond. No.                     1.52e+06\n",
      "==============================================================================\n",
      "\n",
      "Notes:\n",
      "[1] Standard Errors assume that the covariance matrix of the errors is correctly specified.\n",
      "[2] The condition number is large, 1.52e+06. This might indicate that there are\n",
      "strong multicollinearity or other numerical problems.\n"
     ]
    }
   ],
   "source": [
    "X_int = sm.add_constant(_X)\n",
    "linreg = sm.OLS(_y, X_int).fit()\n",
    "print(linreg.summary())"
   ]
  },
  {
   "cell_type": "markdown",
   "metadata": {},
   "source": [
    "Analysis \n",
    "- Rsq = 0.473\n",
    "- Not significant values: povertyPercent, studyPerCap, AvgHouseholdSize, PercentMarried p-values greater than 0.05\n",
    "- Negative Coefficients - AvgDeathsPerYear, medIncome, studyPerCap, MedianAge,PercentMarried, PctPrivateCoverage,BirthRate negatively affect the TargetDeathRate, i.e., the number of deaths caused decline by increase in values of these variables\n",
    "- Positive coefficients incidenceRate, povertyPercent, AvgHouseholdSize, PctPublicCoverage are positive, i.e., Increase in value of these variables cause increase in death rate.\n",
    "- Other parameters being the same, regions with highest death rate due to cancer is South, followerd by Midwest (baseline at 0), followed by Northeast and lastly West. \n"
   ]
  },
  {
   "cell_type": "code",
   "execution_count": 9,
   "metadata": {},
   "outputs": [
    {
     "data": {
      "image/png": "[encoded data removed]",
      "text/plain": [
       "<Figure size 432x288 with 1 Axes>"
      ]
     },
     "metadata": {
      "needs_background": "light"
     },
     "output_type": "display_data"
    }
   ],
   "source": [
    "#Model Assessment \n",
    "\n",
    "plt.scatter(linreg.fittedvalues, linreg.resid) #Residual vs fitted value plot\n",
    "plt.xlabel('Fitted Values')\n",
    "plt.ylabel('Residuals')\n",
    "plt.title('Residuals vs Fitted Values')\n",
    "plt.show()"
   ]
  },
  {
   "cell_type": "markdown",
   "metadata": {},
   "source": [
    "The residual plot definitely looks like an evenly distributed blob with a few outliers. Since it is evenly distributed around the axis, linear Regression looks like a good model. However since our Rsq. values are pretty low & since the outliers are affecting the visualization, removing the outliers will give a better sense on the model."
   ]
  },
  {
   "cell_type": "code",
   "execution_count": 10,
   "metadata": {},
   "outputs": [
    {
     "data": {
      "image/png": "[encoded data removed]",
      "text/plain": [
       "<Figure size 432x288 with 1 Axes>"
      ]
     },
     "metadata": {
      "needs_background": "light"
     },
     "output_type": "display_data"
    }
   ],
   "source": [
    "# QQ Plot\n",
    "qqplot = sm.qqplot(linreg.resid)\n",
    "plt.show()"
   ]
  },
  {
   "cell_type": "markdown",
   "metadata": {},
   "source": [
    "Plot is not very linear with some deviations at the end which are pretty normal given we have observed the outliers in the earlier residual plot as well."
   ]
  },
  {
   "cell_type": "code",
   "execution_count": 11,
   "metadata": {},
   "outputs": [
    {
     "name": "stdout",
     "output_type": "stream",
     "text": [
      "MSR for linear regression is  432.76152056446324\n"
     ]
    }
   ],
   "source": [
    "#C.Report MSE value on the test set. \n",
    "\n",
    "linreg = LinearRegression() #fitting LinearRegression model on training Data\n",
    "\n",
    "linreg.fit(X_train_valid,y_train_valid)\n",
    "y_test_pred = linreg.predict(X_test)\n",
    "MSE_test = np.mean((y_test - y_test_pred)**2)\n",
    "\n",
    "print(\"MSR for linear regression is \", MSE_test)"
   ]
  },
  {
   "cell_type": "markdown",
   "metadata": {},
   "source": [
    "**Model 2 : Lasso**"
   ]
  },
  {
   "cell_type": "code",
   "execution_count": 12,
   "metadata": {},
   "outputs": [],
   "source": [
    "# # #Scaling the data\n",
    "scaler = StandardScaler() # Instantiate\n",
    "scaler.fit(X_train) # Fit the data\n",
    "X_train = pd.DataFrame(scaler.transform(X_train)) #transform X data\n",
    "X_valid = pd.DataFrame(scaler.transform(X_valid))\n",
    "X_train.columns = _X.columns.values\n",
    "X_valid.columns = _X.columns.values"
   ]
  },
  {
   "cell_type": "code",
   "execution_count": 13,
   "metadata": {},
   "outputs": [],
   "source": [
    "alphas = np.logspace(-10, 10, 21) #choosing range of 21 alpha values "
   ]
  },
  {
   "cell_type": "code",
   "execution_count": 14,
   "metadata": {},
   "outputs": [],
   "source": [
    "Validation_Scores = []\n",
    "for a in alphas:\n",
    "    lm_lasso = linear_model.Lasso(alpha=a)\n",
    "    lm_lasso.fit(X_train, y_train) # Fit lasso model on training set\n",
    "    Validation_Scores.append(metrics.mean_squared_error(lm_lasso.predict(X_valid), y_valid)) #Evaluating model on validation set\n"
   ]
  },
  {
   "cell_type": "code",
   "execution_count": 15,
   "metadata": {},
   "outputs": [
    {
     "name": "stdout",
     "output_type": "stream",
     "text": [
      "Min validation error for Lasso  471.526935815251\n",
      "Min Alpha for Lasso 0.1\n"
     ]
    }
   ],
   "source": [
    "#Find minimum validation error and the corresponding lambda value\n",
    "print(\"Min validation error for Lasso \", min(Validation_Scores))\n",
    "minalpha = alphas[np.argmin(Validation_Scores)]\n",
    "print(\"Min Alpha for Lasso\", minalpha)"
   ]
  },
  {
   "cell_type": "markdown",
   "metadata": {},
   "source": [
    "Lambda value = 0.1 and min testing_score (MSE) is 471.52\n",
    "Test MSE for Lasso is a more than the MSE test for Regression. "
   ]
  },
  {
   "cell_type": "code",
   "execution_count": 19,
   "metadata": {},
   "outputs": [
    {
     "name": "stdout",
     "output_type": "stream",
     "text": [
      "Lasso validation score on test data 430.62565484110905\n",
      "Lasso coeffs\n",
      "            0                   1\n",
      "0   -1.586498    avgDeathsPerYear\n",
      "1   12.158811       incidenceRate\n",
      "2   -2.186583           medIncome\n",
      "3    0.262742      povertyPercent\n",
      "4   -0.361309         studyPerCap\n",
      "5   -2.034080           MedianAge\n",
      "6    0.537811    AvgHouseholdSize\n",
      "7    0.045133      PercentMarried\n",
      "8   -5.390100  PctPrivateCoverage\n",
      "9    5.129991   PctPublicCoverage\n",
      "10  -1.589250           BirthRate\n",
      "11  -2.039298    region_Northeast\n",
      "12   1.965294        region_South\n",
      "13  -4.970248         region_West\n"
     ]
    }
   ],
   "source": [
    "# # Refit model with train + validation set, perform prediction on test set\n",
    "lm_lasso = linear_model.Lasso(alpha=minalpha)\n",
    "lm_lasso.fit(X_train_valid, y_train_valid) # Fit model on training set\n",
    "Validation_Scores_alpha = metrics.mean_squared_error(lm_lasso.predict(X_test), y_test)\n",
    "\n",
    "print(\"Lasso validation score on test data\", Validation_Scores_alpha)\n",
    "print(\"Lasso coeffs\")\n",
    "print(pd.DataFrame(zip(lm_lasso.coef_, X_train_valid.columns.values)))"
   ]
  },
  {
   "cell_type": "markdown",
   "metadata": {},
   "source": [
    "Analysis:\n",
    "MSE is 430 which is better than both the MSE values calculated above. So this is a good model fit for the data\n",
    "\n",
    "- The coefficients for all variables has been normalised, esp for categorical dummy variables which had really high coeff. values. \n",
    "- Coeff for incidenceRate have increased significantly and stands out among all others. \n",
    "- Comparing with Linear Regression, the coefficients for 4 region dummy variables have pretty much the same interpretation. \n",
    "\n"
   ]
  },
  {
   "cell_type": "markdown",
   "metadata": {},
   "source": [
    "**Model 3 : Ridge** "
   ]
  },
  {
   "cell_type": "markdown",
   "metadata": {},
   "source": [
    "alphas = np.logspace(-10, 10, 21)\n",
    "\n",
    "Valid_Scores = []\n",
    "for a in alphas:\n",
    "    lm_ridge = linear_model.Ridge(alpha=a)\n",
    "    lm_ridge.fit(X_train, y_train) # Fit model on training set\n",
    "    Valid_Scores.append(metrics.mean_squared_error(lm_ridge.predict(X_valid), y_valid)) # Evaluate model on validation set"
   ]
  },
  {
   "cell_type": "code",
   "execution_count": 21,
   "metadata": {},
   "outputs": [
    {
     "name": "stdout",
     "output_type": "stream",
     "text": [
      "Min validation error for Ridge 472.17814405830893\n",
      "Min Alpha for Ridge 1.0\n"
     ]
    }
   ],
   "source": [
    "# #Find minimum validation error and the corresponding lambda value\n",
    "print(\"Min validation error for Ridge\", min(Valid_Scores))\n",
    "minalpha = alphas[np.argmin(Valid_Scores)]\n",
    "print(\"Min Alpha for Ridge\", minalpha)"
   ]
  },
  {
   "cell_type": "markdown",
   "metadata": {},
   "source": [
    "Analysis: \n",
    "Lambda value is 1.0 at lowest MSE value of 472.18"
   ]
  },
  {
   "cell_type": "code",
   "execution_count": 22,
   "metadata": {},
   "outputs": [
    {
     "name": "stdout",
     "output_type": "stream",
     "text": [
      "Ridge validation score on test data 432.73983438873785\n"
     ]
    }
   ],
   "source": [
    "# Refit model with minalpha on train + validation set, perform prediction on test set\n",
    "lm_ridge = linear_model.Ridge(alpha = minalpha)\n",
    "lm_ridge.fit(X_train_valid, y_train_valid)\n",
    "validation_score = metrics.mean_squared_error(lm_ridge.predict(X_test), y_test)\n",
    "print(\"Ridge validation score on test data\", validation_score)\n"
   ]
  },
  {
   "cell_type": "code",
   "execution_count": 24,
   "metadata": {},
   "outputs": [
    {
     "name": "stdout",
     "output_type": "stream",
     "text": [
      "Ridge coeffs\n",
      "            0                   1\n",
      "0   -1.629726    avgDeathsPerYear\n",
      "1   12.268700       incidenceRate\n",
      "2   -2.135779           medIncome\n",
      "3    0.351954      povertyPercent\n",
      "4   -0.443876         studyPerCap\n",
      "5   -2.487559           MedianAge\n",
      "6    0.603828    AvgHouseholdSize\n",
      "7    0.478853      PercentMarried\n",
      "8   -5.320298  PctPrivateCoverage\n",
      "9    5.537610   PctPublicCoverage\n",
      "10  -1.780673           BirthRate\n",
      "11  -2.110459              region\n"
     ]
    }
   ],
   "source": [
    "print(\"Ridge coeffs\")\n",
    "print(pd.DataFrame(zip(lm_ridge.coef_, X.columns.values))) #printing variable name and their coef values together\n"
   ]
  },
  {
   "cell_type": "markdown",
   "metadata": {},
   "source": [
    "Analysis:\n",
    "the coefficient values are very similar to the Lasso model and different from Linear Regression model above. While the variables with negative coefficients have been the same, the negative values have changed and are normalised. \n",
    "no variables have been dropped. \n"
   ]
  },
  {
   "cell_type": "markdown",
   "metadata": {},
   "source": [
    "**Model 4: KNN**"
   ]
  },
  {
   "cell_type": "markdown",
   "metadata": {},
   "source": [
    "Creating a categorical response variable based on TARGET_deathRate. The number of groups K could be different."
   ]
  },
  {
   "cell_type": "code",
   "execution_count": 25,
   "metadata": {},
   "outputs": [
    {
     "name": "stdout",
     "output_type": "stream",
     "text": [
      "tdr_category\n",
      "high       996\n",
      "low        999\n",
      "medium    1022\n",
      "dtype: int64\n"
     ]
    }
   ],
   "source": [
    "dummy_cancer['tdr_category'] = np.array(pd.qcut(dummy_cancer['TARGET_deathRate'], q = [0, .33, .67, 1], labels = ['low','medium','high']))\n",
    "print(dummy_cancer.groupby('tdr_category').size())"
   ]
  },
  {
   "cell_type": "code",
   "execution_count": 26,
   "metadata": {},
   "outputs": [],
   "source": [
    "_X = dummy_cancer[['avgDeathsPerYear', 'incidenceRate', 'medIncome','povertyPercent', 'studyPerCap', 'MedianAge', 'AvgHouseholdSize','PercentMarried', 'PctPrivateCoverage', 'PctPublicCoverage','BirthRate', 'region_Northeast', 'region_South','region_West']]\n",
    "_y = dummy_cancer['tdr_category']"
   ]
  },
  {
   "cell_type": "code",
   "execution_count": 27,
   "metadata": {},
   "outputs": [],
   "source": [
    "# # # Splitting data into train_valid and test set \n",
    "X_train_valid , X_test, y_train_valid, y_test = train_test_split(_X,_y, test_size = 0.25, random_state = 7283) #splitting training and Test data in 1:3 ratio\n",
    "# Further splitting the data into train and valid set\n",
    "X_train, X_valid, y_train, y_valid = train_test_split(X_train_valid, y_train_valid, test_size = 0.37, random_state = 7283) #further splitting into train and validation\n"
   ]
  },
  {
   "cell_type": "code",
   "execution_count": 28,
   "metadata": {},
   "outputs": [],
   "source": [
    "valid_misclf = []\n",
    "for k in range(1, 11):\n",
    "    knn = neighbors.KNeighborsClassifier(n_neighbors = k)\n",
    "    knn.fit(X_train, y_train)\n",
    "    \n",
    "    y_hat = knn.predict(X_valid)\n",
    "    valid_misclf.append(np.mean(y_hat != y_valid))\n"
   ]
  },
  {
   "cell_type": "code",
   "execution_count": 29,
   "metadata": {},
   "outputs": [
    {
     "data": {
      "image/png": "[encoded data removed]",
      "text/plain": [
       "<Figure size 432x288 with 1 Axes>"
      ]
     },
     "metadata": {
      "needs_background": "light"
     },
     "output_type": "display_data"
    }
   ],
   "source": [
    "import matplotlib.pyplot as plt\n",
    "plt.plot(range(1,11), valid_misclf)\n",
    "plt.show()"
   ]
  },
  {
   "cell_type": "code",
   "execution_count": 31,
   "metadata": {},
   "outputs": [
    {
     "name": "stdout",
     "output_type": "stream",
     "text": [
      "Best K value is  4\n",
      "Misclassification is:  0.5221027479091995\n"
     ]
    }
   ],
   "source": [
    "bestK = np.argmin(valid_misclf) + 1\n",
    "print('Best K value is ',bestK)\n",
    "print('Misclassification is: ',valid_misclf[bestK-1])"
   ]
  },
  {
   "cell_type": "code",
   "execution_count": 32,
   "metadata": {},
   "outputs": [
    {
     "name": "stdout",
     "output_type": "stream",
     "text": [
      "Accuracy score of KNN is 0.4743130227001195\n"
     ]
    }
   ],
   "source": [
    "accuracy_score1 = knn.score(X_valid, y_valid)\n",
    "print('Accuracy score of KNN is',accuracy_score1)"
   ]
  },
  {
   "cell_type": "markdown",
   "metadata": {},
   "source": [
    "As seen in the graph, for range (1, 11) the best K is 4 at misclassification of 40.86% which says that about 60% predictions are correct. Not a good number.\n",
    "Train algorithm with the optimal K found above"
   ]
  },
  {
   "cell_type": "code",
   "execution_count": 33,
   "metadata": {},
   "outputs": [
    {
     "name": "stdout",
     "output_type": "stream",
     "text": [
      "0.49403973509933774\n"
     ]
    }
   ],
   "source": [
    "knn = neighbors.KNeighborsClassifier(n_neighbors = bestK, weights = 'uniform')\n",
    "knn.fit(X_train_valid, y_train_valid)\n",
    "yhat = knn.predict(X_test)\n",
    "misclf = np.mean(yhat != y_test)\n",
    "# # print(misclf) \n",
    "\n",
    "accuracy_score2 = knn.score(X_test, y_test)\n",
    "print(accuracy_score2)"
   ]
  },
  {
   "cell_type": "code",
   "execution_count": null,
   "metadata": {},
   "outputs": [],
   "source": []
  },
  {
   "cell_type": "code",
   "execution_count": null,
   "metadata": {},
   "outputs": [],
   "source": []
  }
 ],
 "metadata": {
  "kernelspec": {
   "display_name": "Python 3",
   "language": "python",
   "name": "python3"
  },
  "language_info": {
   "codemirror_mode": {
    "name": "ipython",
    "version": 3
   },
   "file_extension": ".py",
   "mimetype": "text/x-python",
   "name": "python",
   "nbconvert_exporter": "python",
   "pygments_lexer": "ipython3",
   "version": "3.8.5"
  }
 },
 "nbformat": 4,
 "nbformat_minor": 4
}
